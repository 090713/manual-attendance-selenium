{
  "cells": [
    {
      "cell_type": "markdown",
      "metadata": {
        "id": "view-in-github",
        "colab_type": "text"
      },
      "source": [
        "<a href=\"https://colab.research.google.com/github/090713/manual-attendance-selenium/blob/main/Copy_of_Manual_Attendance_Selenium_Test.ipynb\" target=\"_parent\"><img src=\"https://colab.research.google.com/assets/colab-badge.svg\" alt=\"Open In Colab\"/></a>"
      ]
    },
    {
      "cell_type": "markdown",
      "id": "8f28631f",
      "metadata": {
        "id": "8f28631f"
      },
      "source": [
        "# Manual Attendance System — Selenium Testing (Colab + GitHub)\n",
        "\n",
        "**Author:** Dwa\n",
        "**Repository:** `dwa/manual-attendance-selenium`  \n",
        "\n",
        "**Notebook purpose:** A step-by-step, well-documented Colab notebook that:\n",
        "\n",
        "- creates a simple `attendance.html` interface\n",
        "- installs and configures headless Chrome + ChromeDriver and Selenium\n",
        "- runs automated Selenium tests, captures a screenshot, and displays results\n",
        "---\n"
      ]
    },
    {
      "cell_type": "markdown",
      "id": "358eefb4",
      "metadata": {
        "id": "358eefb4"
      },
      "source": [
        "## 1) Create the `attendance.html` interface\n",
        "\n",
        "This cell writes an HTML file into `/content/attendance.html`. It contains a simple form with:\n",
        "\n",
        "- Student Name\n",
        "- Roll Number\n",
        "- Attendance Status (Present / Absent)\n",
        "- A Submit button that updates an output paragraph\n",
        "\n",
        "Run the cell and you will see confirmation that the file was written.\n"
      ]
    },
    {
      "cell_type": "code",
      "source": [
        "attendance_html = \"\"\"\n",
        "<!DOCTYPE html>\n",
        "<html lang=\"en\">\n",
        "<head>\n",
        "<meta charset=\"UTF-8\">\n",
        "<title>Manual Attendance System</title>\n",
        "</head>\n",
        "<body>\n",
        "<h1>Manual Attendance System</h1>\n",
        "<form id=\"attendance-form\">\n",
        "    <label for=\"name\">Student Name:</label>\n",
        "    <input type=\"text\" id=\"name\" name=\"name\"><br><br>\n",
        "    <label for=\"roll\">Roll Number:</label>\n",
        "    <input type=\"text\" id=\"roll\" name=\"roll\"><br><br>\n",
        "    <label for=\"status\">Attendance Status:</label>\n",
        "    <select id=\"status\" name=\"status\">\n",
        "        <option value=\"\">Select</option>\n",
        "        <option value=\"Present\">Present</option>\n",
        "        <option value=\"Absent\">Absent</option>\n",
        "    </select><br><br>\n",
        "    <button type=\"button\" onclick=\"markAttendance()\">Submit</button>\n",
        "</form>\n",
        "<p id=\"output\"></p>\n",
        "<script>\n",
        "function markAttendance(){\n",
        "    const name=document.getElementById('name').value;\n",
        "    const roll=document.getElementById('roll').value;\n",
        "    const status=document.getElementById('status').value;\n",
        "    if(name===\"\"||roll===\"\"||status===\"\"){\n",
        "        document.getElementById('output').innerText=\"Please fill all fields!\";\n",
        "    } else {\n",
        "        document.getElementById('output').innerText=\n",
        "            `Attendance recorded: ${name} (Roll: ${roll}) - ${status}`;\n",
        "    }\n",
        "}\n",
        "</script>\n",
        "</body>\n",
        "</html>\n",
        "\"\"\"\n",
        "\n",
        "with open(\"/content/attendance.html\", \"w\") as f:\n",
        "    f.write(attendance_html)\n",
        "\n",
        "print(\"attendance.html created in /content/attendance.html\")\n"
      ],
      "metadata": {
        "colab": {
          "base_uri": "https://localhost:8080/"
        },
        "id": "aDPHzv_vBw2d",
        "outputId": "083b8932-20a2-40ec-a7fe-6b559a26f5aa"
      },
      "id": "aDPHzv_vBw2d",
      "execution_count": null,
      "outputs": [
        {
          "output_type": "stream",
          "name": "stdout",
          "text": [
            "attendance.html created in /content/attendance.html\n"
          ]
        }
      ]
    },
    {
      "cell_type": "markdown",
      "id": "c7816b42",
      "metadata": {
        "id": "c7816b42"
      },
      "source": [
        "## 2) Install Chromium, ChromeDriver and Selenium\n",
        "\n",
        "Run the following cell to install system packages and the Selenium Python package. This is required for headless testing inside Colab.\n",
        "\n",
        "**Note:** This cell uses `apt-get` and `pip` and may take ~20–60 seconds to run depending on the environment.\n"
      ]
    },
    {
      "cell_type": "code",
      "execution_count": null,
      "id": "6f1513bf",
      "metadata": {
        "colab": {
          "base_uri": "https://localhost:8080/"
        },
        "id": "6f1513bf",
        "outputId": "d8f863d2-7cc0-4a6b-b087-1a9cc8cbc179"
      },
      "outputs": [
        {
          "output_type": "stream",
          "name": "stdout",
          "text": [
            "W: Skipping acquire of configured file 'main/source/Sources' as repository 'https://r2u.stat.illinois.edu/ubuntu jammy InRelease' does not seem to provide it (sources.list entry misspelt?)\n",
            "Installation finished. You can proceed to run Selenium tests.\n"
          ]
        }
      ],
      "source": [
        "# Install Chromium, ChromeDriver and Selenium\n",
        "# This cell runs system package installs and pip install.\n",
        "\n",
        "import sys\n",
        "\n",
        "# If running outside Colab, you may skip or adapt these commands.\n",
        "!apt-get update -qq\n",
        "!apt-get install -y -qq chromium-chromedriver\n",
        "!pip install -q selenium\n",
        "\n",
        "print('Installation finished. You can proceed to run Selenium tests.')\n"
      ]
    },
    {
      "cell_type": "markdown",
      "id": "4796fa67",
      "metadata": {
        "id": "4796fa67"
      },
      "source": [
        "## 3) Run Selenium test (headless) — fill form, click Submit, capture screenshot\n",
        "\n",
        "This cell:\n",
        "\n",
        "1. Configures ChromeOptions for headless operation\n",
        "2. Loads the local `attendance.html` file\n",
        "3. Fills the form with sample data (`Dwa`, `101`, `Present`)\n",
        "4. Clicks Submit, reads the output text, asserts the expected result\n",
        "5. Saves a screenshot to `/content/attendance_test_result.png` and displays it\n"
      ]
    },
    {
      "cell_type": "markdown",
      "id": "9235400c",
      "metadata": {
        "id": "9235400c"
      },
      "source": [
        "### Files generated so far\n",
        "The notebook will show the files we created. This helps confirm everything is present before pushing to GitHub.\n"
      ]
    },
    {
      "cell_type": "code",
      "source": [
        "from selenium import webdriver\n",
        "from selenium.webdriver.common.by import By\n",
        "import time\n",
        "\n",
        "# Chrome options for headless mode\n",
        "options = webdriver.ChromeOptions()\n",
        "options.add_argument('--headless')\n",
        "options.add_argument('--no-sandbox')\n",
        "options.add_argument('--disable-dev-shm-usage')\n",
        "\n",
        "driver = webdriver.Chrome(options=options)\n",
        "\n",
        "# Open the attendance.html file\n",
        "driver.get(\"file:///content/attendance.html\")\n"
      ],
      "metadata": {
        "id": "WONQoFbrCDQ6"
      },
      "id": "WONQoFbrCDQ6",
      "execution_count": null,
      "outputs": []
    },
    {
      "cell_type": "code",
      "source": [
        "# Find form elements\n",
        "name_input = driver.find_element(By.ID, \"name\")\n",
        "roll_input = driver.find_element(By.ID, \"roll\")\n",
        "status_select = driver.find_element(By.ID, \"status\")\n",
        "submit_button = driver.find_element(By.XPATH, \"//button[@type='button']\")\n",
        "\n",
        "# Enter sample data\n",
        "name_input.send_keys(\"Dwa\")\n",
        "roll_input.send_keys(\"101\")\n",
        "status_select.send_keys(\"Present\")\n",
        "\n",
        "# Click submit\n",
        "submit_button.click()\n",
        "time.sleep(1)\n",
        "\n",
        "# Read output\n",
        "output = driver.find_element(By.ID, \"output\").text\n",
        "print(\"Output:\", output)\n",
        "\n",
        "# Verify test\n",
        "assert \"Attendance recorded: Dwa (Roll: 101) - Present\" in output\n",
        "print(\"Test Passed ✅\")\n",
        "\n",
        "driver.quit()\n"
      ],
      "metadata": {
        "colab": {
          "base_uri": "https://localhost:8080/"
        },
        "id": "tVHnDZaRCIdE",
        "outputId": "9181b9ca-c998-472b-9a45-1b802ed6898c"
      },
      "id": "tVHnDZaRCIdE",
      "execution_count": null,
      "outputs": [
        {
          "output_type": "stream",
          "name": "stdout",
          "text": [
            "Output: Attendance recorded: Dwa (Roll: 101) - Present\n",
            "Test Passed ✅\n"
          ]
        }
      ]
    },
    {
      "cell_type": "code",
      "execution_count": null,
      "id": "f6a16b68",
      "metadata": {
        "colab": {
          "base_uri": "https://localhost:8080/"
        },
        "id": "f6a16b68",
        "outputId": "6f25044f-6684-4e69-e87c-67a8d199d50a"
      },
      "outputs": [
        {
          "output_type": "stream",
          "name": "stdout",
          "text": [
            "/content/attendance.html -> EXISTS\n",
            "/content/attendance_test_result.png -> EXISTS\n",
            "\n",
            "/content directory listing:\n",
            ".config\n",
            "attendance.html\n",
            "attendance_test_result.png\n",
            "sample_data\n"
          ]
        }
      ],
      "source": [
        "import os\n",
        "for p in ['/content/attendance.html', '/content/attendance_test_result.png']:\n",
        "    print(p, '->', 'EXISTS' if os.path.exists(p) else 'MISSING')\n",
        "\n",
        "# Show a short listing of /content\n",
        "print('\\n/content directory listing:')\n",
        "print('\\n'.join(sorted(os.listdir('/content'))[:50]))\n"
      ]
    },
    {
      "cell_type": "markdown",
      "id": "6b073b06",
      "metadata": {
        "id": "6b073b06"
      },
      "source": [
        "## 5) Final notes, verification & cleanup\n",
        "\n",
        "- After running the push cell, go to your repository:  \n",
        "`https://github.com/mahitha/manual-attendance-selenium` and verify that `attendance.html` and `attendance_test_result.png` (if created) are present.\n",
        "\n",
        "- Remove the cell that asked for your PAT from this notebook or delete the notebook copy that contains the token to avoid accidental leakage.\n",
        "\n",
        "- If you want to include additional tests, modify the Selenium test cell to iterate over a CSV of test cases or to append results to a CSV and push that CSV to the repo.\n",
        "\n",
        "---\n",
        "\n"
      ]
    },
    {
      "cell_type": "code",
      "source": [
        "import os\n",
        "\n",
        "print(\"Files in /content:\")\n",
        "print(os.listdir(\"/content\"))\n"
      ],
      "metadata": {
        "colab": {
          "base_uri": "https://localhost:8080/"
        },
        "id": "6C8_pdDVD6wg",
        "outputId": "8a860e3b-c211-43c9-ed3f-f1a5c61f01a7"
      },
      "id": "6C8_pdDVD6wg",
      "execution_count": 1,
      "outputs": [
        {
          "output_type": "stream",
          "name": "stdout",
          "text": [
            "Files in /content:\n",
            "['.config', 'sample_data']\n"
          ]
        }
      ]
    },
    {
      "cell_type": "code",
      "source": [
        "# Replace with your GitHub username & repo\n",
        "username = \"mahitha\"\n",
        "repo = \"manual-attendance-selenium\"\n",
        "\n",
        "# Remove any existing folder to avoid conflicts\n",
        "!rm -rf /content/{repo}\n",
        "\n",
        "# Clone the repo\n",
        "!git clone https://github.com/{username}/{repo}.git /content/{repo}\n",
        "\n",
        "print(\"Repository cloned to /content/\" + repo)\n"
      ],
      "metadata": {
        "colab": {
          "base_uri": "https://localhost:8080/"
        },
        "id": "t87t506-EN1e",
        "outputId": "78be07f4-4200-4697-bded-15ed301732e0"
      },
      "id": "t87t506-EN1e",
      "execution_count": 2,
      "outputs": [
        {
          "output_type": "stream",
          "name": "stdout",
          "text": [
            "Cloning into '/content/manual-attendance-selenium'...\n",
            "fatal: could not read Username for 'https://github.com': No such device or address\n",
            "Repository cloned to /content/manual-attendance-selenium\n"
          ]
        }
      ]
    }
  ],
  "metadata": {
    "colab": {
      "provenance": [],
      "include_colab_link": true
    },
    "language_info": {
      "name": "python"
    },
    "kernelspec": {
      "name": "python3",
      "display_name": "Python 3"
    }
  },
  "nbformat": 4,
  "nbformat_minor": 5
}